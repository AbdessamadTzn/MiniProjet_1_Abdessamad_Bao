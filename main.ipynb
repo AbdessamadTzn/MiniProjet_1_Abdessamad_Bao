{
 "cells": [
  {
   "cell_type": "code",
   "execution_count": 17,
   "metadata": {},
   "outputs": [],
   "source": [
    "import pandas as pd \n",
    "import numpy as np \n",
    "import seaborn as sns\n"
   ]
  },
  {
   "cell_type": "code",
   "execution_count": 5,
   "metadata": {},
   "outputs": [
    {
     "data": {
      "text/html": [
       "<div>\n",
       "<style scoped>\n",
       "    .dataframe tbody tr th:only-of-type {\n",
       "        vertical-align: middle;\n",
       "    }\n",
       "\n",
       "    .dataframe tbody tr th {\n",
       "        vertical-align: top;\n",
       "    }\n",
       "\n",
       "    .dataframe thead th {\n",
       "        text-align: right;\n",
       "    }\n",
       "</style>\n",
       "<table border=\"1\" class=\"dataframe\">\n",
       "  <thead>\n",
       "    <tr style=\"text-align: right;\">\n",
       "      <th></th>\n",
       "      <th>Age</th>\n",
       "      <th>Sexe</th>\n",
       "      <th>Taux_presence</th>\n",
       "      <th>Nombre_retards</th>\n",
       "      <th>Note_moyenne</th>\n",
       "      <th>Situation_familiale</th>\n",
       "      <th>Abandon</th>\n",
       "    </tr>\n",
       "  </thead>\n",
       "  <tbody>\n",
       "    <tr>\n",
       "      <th>0</th>\n",
       "      <td>21</td>\n",
       "      <td>Femme</td>\n",
       "      <td>89.585023</td>\n",
       "      <td>2</td>\n",
       "      <td>15.826896</td>\n",
       "      <td>Enfants à charge</td>\n",
       "      <td>0</td>\n",
       "    </tr>\n",
       "    <tr>\n",
       "      <th>1</th>\n",
       "      <td>20</td>\n",
       "      <td>Homme</td>\n",
       "      <td>70.713068</td>\n",
       "      <td>3</td>\n",
       "      <td>12.829358</td>\n",
       "      <td>Célibataire</td>\n",
       "      <td>0</td>\n",
       "    </tr>\n",
       "    <tr>\n",
       "      <th>2</th>\n",
       "      <td>22</td>\n",
       "      <td>Femme</td>\n",
       "      <td>82.122963</td>\n",
       "      <td>1</td>\n",
       "      <td>13.086319</td>\n",
       "      <td>Enfants à charge</td>\n",
       "      <td>0</td>\n",
       "    </tr>\n",
       "    <tr>\n",
       "      <th>3</th>\n",
       "      <td>24</td>\n",
       "      <td>Homme</td>\n",
       "      <td>87.408859</td>\n",
       "      <td>3</td>\n",
       "      <td>14.992032</td>\n",
       "      <td>Célibataire</td>\n",
       "      <td>0</td>\n",
       "    </tr>\n",
       "    <tr>\n",
       "      <th>4</th>\n",
       "      <td>20</td>\n",
       "      <td>Homme</td>\n",
       "      <td>86.470676</td>\n",
       "      <td>3</td>\n",
       "      <td>12.671649</td>\n",
       "      <td>Marié</td>\n",
       "      <td>0</td>\n",
       "    </tr>\n",
       "  </tbody>\n",
       "</table>\n",
       "</div>"
      ],
      "text/plain": [
       "   Age   Sexe  Taux_presence  Nombre_retards  Note_moyenne  \\\n",
       "0   21  Femme      89.585023               2     15.826896   \n",
       "1   20  Homme      70.713068               3     12.829358   \n",
       "2   22  Femme      82.122963               1     13.086319   \n",
       "3   24  Homme      87.408859               3     14.992032   \n",
       "4   20  Homme      86.470676               3     12.671649   \n",
       "\n",
       "  Situation_familiale  Abandon  \n",
       "0    Enfants à charge        0  \n",
       "1         Célibataire        0  \n",
       "2    Enfants à charge        0  \n",
       "3         Célibataire        0  \n",
       "4               Marié        0  "
      ]
     },
     "execution_count": 5,
     "metadata": {},
     "output_type": "execute_result"
    }
   ],
   "source": [
    "df = pd.read_csv(\"Dataset_Abandon_Scolaire.csv\")\n",
    "\n",
    "df.head()"
   ]
  },
  {
   "cell_type": "code",
   "execution_count": 6,
   "metadata": {},
   "outputs": [
    {
     "name": "stdout",
     "output_type": "stream",
     "text": [
      "<class 'pandas.core.frame.DataFrame'>\n",
      "RangeIndex: 2000 entries, 0 to 1999\n",
      "Data columns (total 7 columns):\n",
      " #   Column               Non-Null Count  Dtype  \n",
      "---  ------               --------------  -----  \n",
      " 0   Age                  2000 non-null   int64  \n",
      " 1   Sexe                 2000 non-null   object \n",
      " 2   Taux_presence        2000 non-null   float64\n",
      " 3   Nombre_retards       2000 non-null   int64  \n",
      " 4   Note_moyenne         2000 non-null   float64\n",
      " 5   Situation_familiale  2000 non-null   object \n",
      " 6   Abandon              2000 non-null   int64  \n",
      "dtypes: float64(2), int64(3), object(2)\n",
      "memory usage: 109.5+ KB\n"
     ]
    }
   ],
   "source": [
    "df.info()"
   ]
  },
  {
   "cell_type": "code",
   "execution_count": 8,
   "metadata": {},
   "outputs": [
    {
     "data": {
      "text/plain": [
       "(2000, 7)"
      ]
     },
     "execution_count": 8,
     "metadata": {},
     "output_type": "execute_result"
    }
   ],
   "source": [
    "df.shape"
   ]
  },
  {
   "cell_type": "markdown",
   "metadata": {},
   "source": [
    "### *Handling Duplicates:*"
   ]
  },
  {
   "cell_type": "code",
   "execution_count": 11,
   "metadata": {},
   "outputs": [
    {
     "data": {
      "text/plain": [
       "np.int64(0)"
      ]
     },
     "execution_count": 11,
     "metadata": {},
     "output_type": "execute_result"
    }
   ],
   "source": [
    "df.duplicated().sum()\n"
   ]
  },
  {
   "cell_type": "markdown",
   "metadata": {},
   "source": [
    "Pas de valeurs duplique"
   ]
  },
  {
   "cell_type": "markdown",
   "metadata": {},
   "source": [
    "### *Handling NULL Values:*"
   ]
  },
  {
   "cell_type": "code",
   "execution_count": 13,
   "metadata": {},
   "outputs": [
    {
     "data": {
      "text/plain": [
       "Age                    0\n",
       "Sexe                   0\n",
       "Taux_presence          0\n",
       "Nombre_retards         0\n",
       "Note_moyenne           0\n",
       "Situation_familiale    0\n",
       "Abandon                0\n",
       "dtype: int64"
      ]
     },
     "execution_count": 13,
     "metadata": {},
     "output_type": "execute_result"
    }
   ],
   "source": [
    "df.isnull().sum()\n"
   ]
  },
  {
   "cell_type": "markdown",
   "metadata": {},
   "source": [
    "Pas de valeurs NULL / manquantes"
   ]
  },
  {
   "cell_type": "markdown",
   "metadata": {},
   "source": [
    "### *Handling Outliers:*"
   ]
  },
  {
   "cell_type": "code",
   "execution_count": 15,
   "metadata": {},
   "outputs": [
    {
     "data": {
      "text/html": [
       "<div>\n",
       "<style scoped>\n",
       "    .dataframe tbody tr th:only-of-type {\n",
       "        vertical-align: middle;\n",
       "    }\n",
       "\n",
       "    .dataframe tbody tr th {\n",
       "        vertical-align: top;\n",
       "    }\n",
       "\n",
       "    .dataframe thead th {\n",
       "        text-align: right;\n",
       "    }\n",
       "</style>\n",
       "<table border=\"1\" class=\"dataframe\">\n",
       "  <thead>\n",
       "    <tr style=\"text-align: right;\">\n",
       "      <th></th>\n",
       "      <th>Age</th>\n",
       "      <th>Taux_presence</th>\n",
       "      <th>Nombre_retards</th>\n",
       "      <th>Note_moyenne</th>\n",
       "      <th>Abandon</th>\n",
       "    </tr>\n",
       "  </thead>\n",
       "  <tbody>\n",
       "    <tr>\n",
       "      <th>count</th>\n",
       "      <td>2000.0000</td>\n",
       "      <td>2000.000000</td>\n",
       "      <td>2000.000000</td>\n",
       "      <td>2000.000000</td>\n",
       "      <td>2000.000000</td>\n",
       "    </tr>\n",
       "    <tr>\n",
       "      <th>mean</th>\n",
       "      <td>20.5930</td>\n",
       "      <td>84.637016</td>\n",
       "      <td>2.593500</td>\n",
       "      <td>13.441019</td>\n",
       "      <td>0.084000</td>\n",
       "    </tr>\n",
       "    <tr>\n",
       "      <th>std</th>\n",
       "      <td>2.0133</td>\n",
       "      <td>7.921973</td>\n",
       "      <td>1.788255</td>\n",
       "      <td>1.809283</td>\n",
       "      <td>0.277457</td>\n",
       "    </tr>\n",
       "    <tr>\n",
       "      <th>min</th>\n",
       "      <td>14.0000</td>\n",
       "      <td>59.586369</td>\n",
       "      <td>0.000000</td>\n",
       "      <td>7.615012</td>\n",
       "      <td>0.000000</td>\n",
       "    </tr>\n",
       "    <tr>\n",
       "      <th>25%</th>\n",
       "      <td>19.0000</td>\n",
       "      <td>79.279829</td>\n",
       "      <td>1.000000</td>\n",
       "      <td>12.268147</td>\n",
       "      <td>0.000000</td>\n",
       "    </tr>\n",
       "    <tr>\n",
       "      <th>50%</th>\n",
       "      <td>21.0000</td>\n",
       "      <td>84.813868</td>\n",
       "      <td>3.000000</td>\n",
       "      <td>13.470242</td>\n",
       "      <td>0.000000</td>\n",
       "    </tr>\n",
       "    <tr>\n",
       "      <th>75%</th>\n",
       "      <td>22.0000</td>\n",
       "      <td>90.169016</td>\n",
       "      <td>4.000000</td>\n",
       "      <td>14.688037</td>\n",
       "      <td>0.000000</td>\n",
       "    </tr>\n",
       "    <tr>\n",
       "      <th>max</th>\n",
       "      <td>28.0000</td>\n",
       "      <td>100.000000</td>\n",
       "      <td>9.000000</td>\n",
       "      <td>18.833574</td>\n",
       "      <td>1.000000</td>\n",
       "    </tr>\n",
       "  </tbody>\n",
       "</table>\n",
       "</div>"
      ],
      "text/plain": [
       "             Age  Taux_presence  Nombre_retards  Note_moyenne      Abandon\n",
       "count  2000.0000    2000.000000     2000.000000   2000.000000  2000.000000\n",
       "mean     20.5930      84.637016        2.593500     13.441019     0.084000\n",
       "std       2.0133       7.921973        1.788255      1.809283     0.277457\n",
       "min      14.0000      59.586369        0.000000      7.615012     0.000000\n",
       "25%      19.0000      79.279829        1.000000     12.268147     0.000000\n",
       "50%      21.0000      84.813868        3.000000     13.470242     0.000000\n",
       "75%      22.0000      90.169016        4.000000     14.688037     0.000000\n",
       "max      28.0000     100.000000        9.000000     18.833574     1.000000"
      ]
     },
     "execution_count": 15,
     "metadata": {},
     "output_type": "execute_result"
    }
   ],
   "source": [
    "df.describe()\n"
   ]
  },
  {
   "cell_type": "code",
   "execution_count": 19,
   "metadata": {},
   "outputs": [
    {
     "data": {
      "text/plain": [
       "<Axes: ylabel='Taux_presence'>"
      ]
     },
     "execution_count": 19,
     "metadata": {},
     "output_type": "execute_result"
    },
    {
     "data": {
      "image/png": "[encoded data removed]",
      "text/plain": [
       "<Figure size 640x480 with 1 Axes>"
      ]
     },
     "metadata": {},
     "output_type": "display_data"
    }
   ],
   "source": [
    "sns.boxplot(df['Taux_presence'])\n"
   ]
  },
  {
   "cell_type": "markdown",
   "metadata": {},
   "source": [
    "  - La boîte (box) montre la distribution centrale des données\n",
    "   - Les moustaches (whiskers) s'étendent jusqu'à 1.5 * IQR (Intervalle Interquartile)\n",
    "   - Les points au-delà des moustaches représentent les outliers\n",
    "   - Les outliers dans le taux de présence peuvent indiquer :\n",
    "     * Des étudiants avec une présence exceptionnellement basse (risque d'abandon)"
   ]
  },
  {
   "cell_type": "code",
   "execution_count": 20,
   "metadata": {},
   "outputs": [
    {
     "data": {
      "text/plain": [
       "<Axes: ylabel='Nombre_retards'>"
      ]
     },
     "execution_count": 20,
     "metadata": {},
     "output_type": "execute_result"
    },
    {
     "data": {
      "image/png": "[encoded data removed]",
      "text/plain": [
       "<Figure size 640x480 with 1 Axes>"
      ]
     },
     "metadata": {},
     "output_type": "display_data"
    }
   ],
   "source": [
    "sns.boxplot(df['Nombre_retards'])"
   ]
  },
  {
   "cell_type": "markdown",
   "metadata": {},
   "source": [
    "- On voit un seul outlier vers le haut qui suggère un étudiants avec un nombre anormalement élevé de retards\n",
    "- Cet outlier peuvent être un indicateur précoces de risque d'abandon"
   ]
  },
  {
   "cell_type": "code",
   "execution_count": 21,
   "metadata": {},
   "outputs": [
    {
     "data": {
      "text/plain": [
       "<Axes: ylabel='Note_moyenne'>"
      ]
     },
     "execution_count": 21,
     "metadata": {},
     "output_type": "execute_result"
    },
    {
     "data": {
      "image/png": "[encoded data removed]",
      "text/plain": [
       "<Figure size 640x480 with 1 Axes>"
      ]
     },
     "metadata": {},
     "output_type": "display_data"
    }
   ],
   "source": [
    "sns.boxplot(df['Note_moyenne'])\n"
   ]
  },
  {
   "cell_type": "markdown",
   "metadata": {},
   "source": [
    "   - La distribution des notes moyennes montre la performance académique\n",
    "   - Les outliers vers le bas peuvent indiquer des étudiants en difficulté\n",
    "   - Les outliers vers le haut montrent des étudiants exceptionnellement performants"
   ]
  },
  {
   "cell_type": "markdown",
   "metadata": {},
   "source": [
    "### *Remove outliers*"
   ]
  },
  {
   "cell_type": "code",
   "execution_count": 25,
   "metadata": {},
   "outputs": [],
   "source": [
    "# Méthode des Quartiles (IQR - Interquartile Range)\n",
    "\n",
    "\n",
    "# Tauz Presence\n",
    "Q1 = df['Taux_presence'].quantile(0.25)\n",
    "Q3 = df['Taux_presence'].quantile(0.75)\n",
    "IQR = Q3 - Q1\n",
    "\n",
    "# Définir les limites\n",
    "lower_bound = Q1 - 1.5 * IQR\n",
    "upper_bound = Q3 + 1.5 * IQR\n",
    "\n",
    "# Filtrer les outliers\n",
    "df_clean = df[(df['Taux_presence'] >= lower_bound) & (df['Taux_presence'] <= upper_bound)]\n",
    "\n",
    "#Nombre retards\n",
    "\n",
    "Q1 = df['Nombre_retards'].quantile(0.25)\n",
    "Q3 = df['Nombre_retards'].quantile(0.75)\n",
    "IQR = Q3 - Q1\n",
    "\n",
    "# Définir les limites\n",
    "lower_bound = Q1 - 1.5 * IQR\n",
    "upper_bound = Q3 + 1.5 * IQR\n",
    "\n",
    "# Filtrer les outliers\n",
    "df_clean = df[(df['Nombre_retards'] >= lower_bound) & (df['Nombre_retards'] <= upper_bound)]\n",
    "\n",
    "#Note moyenne\n",
    "\n",
    "Q1 = df['Note_moyenne'].quantile(0.25)\n",
    "Q3 = df['Note_moyenne'].quantile(0.75)\n",
    "IQR = Q3 - Q1\n",
    "df_clean = df[(df['Note_moyenne'] >= lower_bound) & (df['Note_moyenne'] <= upper_bound)]\n",
    "\n",
    "\n"
   ]
  },
  {
   "cell_type": "code",
   "execution_count": 26,
   "metadata": {},
   "outputs": [
    {
     "data": {
      "text/plain": [
       "<Axes: ylabel='Taux_presence'>"
      ]
     },
     "execution_count": 26,
     "metadata": {},
     "output_type": "execute_result"
    },
    {
     "data": {
      "image/png": "[encoded data removed]",
      "text/plain": [
       "<Figure size 640x480 with 1 Axes>"
      ]
     },
     "metadata": {},
     "output_type": "display_data"
    }
   ],
   "source": [
    "sns.boxplot(df_clean['Taux_presence'])"
   ]
  },
  {
   "cell_type": "code",
   "execution_count": 27,
   "metadata": {},
   "outputs": [
    {
     "data": {
      "text/plain": [
       "<Axes: ylabel='Nombre_retards'>"
      ]
     },
     "execution_count": 27,
     "metadata": {},
     "output_type": "execute_result"
    },
    {
     "data": {
      "image/png": "[encoded data removed]",
      "text/plain": [
       "<Figure size 640x480 with 1 Axes>"
      ]
     },
     "metadata": {},
     "output_type": "display_data"
    }
   ],
   "source": [
    "sns.boxplot(df_clean['Nombre_retards'])"
   ]
  },
  {
   "cell_type": "code",
   "execution_count": 28,
   "metadata": {},
   "outputs": [
    {
     "data": {
      "text/plain": [
       "<Axes: ylabel='Note_moyenne'>"
      ]
     },
     "execution_count": 28,
     "metadata": {},
     "output_type": "execute_result"
    },
    {
     "data": {
      "image/png": "[encoded data removed]",
      "text/plain": [
       "<Figure size 640x480 with 1 Axes>"
      ]
     },
     "metadata": {},
     "output_type": "display_data"
    }
   ],
   "source": [
    "sns.boxplot(df_clean['Note_moyenne'])\n"
   ]
  },
  {
   "cell_type": "code",
   "execution_count": null,
   "metadata": {},
   "outputs": [],
   "source": [
    "df_clean"
   ]
  }
 ],
 "metadata": {
  "kernelspec": {
   "display_name": "venv",
   "language": "python",
   "name": "python3"
  },
  "language_info": {
   "codemirror_mode": {
    "name": "ipython",
    "version": 3
   },
   "file_extension": ".py",
   "mimetype": "text/x-python",
   "name": "python",
   "nbconvert_exporter": "python",
   "pygments_lexer": "ipython3",
   "version": "3.11.7"
  }
 },
 "nbformat": 4,
 "nbformat_minor": 2
}
